{
 "cells": [
  {
   "cell_type": "markdown",
   "id": "1771fc23",
   "metadata": {},
   "source": [
    "## Right Angle Triangle Shape | Star Pattern"
   ]
  },
  {
   "cell_type": "code",
   "execution_count": 1,
   "id": "386b7df6",
   "metadata": {},
   "outputs": [
    {
     "name": "stdout",
     "output_type": "stream",
     "text": [
      "enter the number of rows5\n",
      "* \n",
      "* * \n",
      "* * * \n",
      "* * * * \n",
      "* * * * * \n"
     ]
    }
   ],
   "source": [
    "num = int(input(\"enter the number of rows\"))\n",
    "for i in range(1,num+1):\n",
    "    for j in range(1,i+1):\n",
    "        print(\"*\",end=\" \")\n",
    "    print()"
   ]
  },
  {
   "cell_type": "code",
   "execution_count": 2,
   "id": "7b11a283",
   "metadata": {},
   "outputs": [
    {
     "name": "stdout",
     "output_type": "stream",
     "text": [
      "enter the noumber of rows6\n",
      "* \n",
      "* * * \n",
      "* * * * * \n",
      "* * * * * * * \n",
      "* * * * * * * * * \n",
      "* * * * * * * * * * * \n"
     ]
    }
   ],
   "source": [
    "num = int(input(\"enter the noumber of rows\"))\n",
    "k = 1\n",
    "for i in range(1,num+1):\n",
    "    for j in range(1,k+1):\n",
    "        print(\"*\", end=\" \")\n",
    "    k = k + 2\n",
    "    print()"
   ]
  },
  {
   "cell_type": "markdown",
   "id": "93e5a6d9",
   "metadata": {},
   "source": [
    "## Pyramid Shape"
   ]
  },
  {
   "cell_type": "code",
   "execution_count": 3,
   "id": "9d08c456",
   "metadata": {},
   "outputs": [
    {
     "name": "stdout",
     "output_type": "stream",
     "text": [
      "enter the number of rows:5\n",
      "    * \n",
      "   * * \n",
      "  * * * \n",
      " * * * * \n",
      "* * * * * \n"
     ]
    }
   ],
   "source": [
    "num = int(input(\"enter the number of rows:\"))\n",
    "for i in range(0,num):\n",
    "    for j in range(0,num-i-1):\n",
    "        print(end=\" \")\n",
    "    for j in range(0,i+1):\n",
    "        print(\"*\",end=\" \")\n",
    "    print()"
   ]
  },
  {
   "cell_type": "markdown",
   "id": "2d0a91a3",
   "metadata": {},
   "source": [
    "## Reverse Pyramid Shape"
   ]
  },
  {
   "cell_type": "code",
   "execution_count": 1,
   "id": "3dadf18f",
   "metadata": {},
   "outputs": [
    {
     "name": "stdout",
     "output_type": "stream",
     "text": [
      "enter the number of rows5\n",
      "* * * * * \n",
      " * * * * \n",
      "  * * * \n",
      "   * * \n",
      "    * \n"
     ]
    }
   ],
   "source": [
    "num = int(input(\"enter the number of rows\"))\n",
    "for i in range(num,0,-1):\n",
    "    for j in range(0,num-i):\n",
    "        print(end= \" \")\n",
    "    for j in range(0,i):\n",
    "        print(\"*\",end=\" \")\n",
    "    print()"
   ]
  },
  {
   "cell_type": "code",
   "execution_count": 15,
   "id": "e65681a4",
   "metadata": {},
   "outputs": [],
   "source": [
    "def pyramid(rows):\n",
    "    for i in range(rows):\n",
    "        print(\"\"*(rows-i-1)+\"* \"*(i+1))\n",
    "    for j in range(rows-1,0,-1):\n",
    "        print(\"\"*(rows-j)+\"* \"*(j))\n",
    "pass "
   ]
  },
  {
   "cell_type": "code",
   "execution_count": 17,
   "id": "81d64cfd",
   "metadata": {},
   "outputs": [
    {
     "name": "stdout",
     "output_type": "stream",
     "text": [
      "* \n",
      "* * \n",
      "* * * \n",
      "* * * * \n",
      "* * * * * \n",
      "* * * * * * \n",
      "* * * * * * * \n",
      "* * * * * * * * \n",
      "* * * * * * * * * \n",
      "* * * * * * * * * * \n",
      "* * * * * * * * * \n",
      "* * * * * * * * \n",
      "* * * * * * * \n",
      "* * * * * * \n",
      "* * * * * \n",
      "* * * * \n",
      "* * * \n",
      "* * \n",
      "* \n"
     ]
    }
   ],
   "source": [
    "pyramid(10)"
   ]
  },
  {
   "cell_type": "markdown",
   "id": "4108cfe5",
   "metadata": {},
   "source": [
    "## Right Angle Triangle Shape"
   ]
  },
  {
   "cell_type": "code",
   "execution_count": 19,
   "id": "e55f99b4",
   "metadata": {},
   "outputs": [
    {
     "name": "stdout",
     "output_type": "stream",
     "text": [
      "enter the number of rows:5\n",
      "* * * * * \n",
      "* * * * \n",
      "* * * \n",
      "* * \n",
      "* \n"
     ]
    }
   ],
   "source": [
    "num = int(input(\"enter the number of rows:\"))\n",
    "for i in range(num,0,-1):\n",
    "    for j in range(0,i):\n",
    "        print(\"*\",end=\" \")\n",
    "    print()"
   ]
  },
  {
   "cell_type": "markdown",
   "id": "eb4144cc",
   "metadata": {},
   "source": [
    "# A-Z patterns"
   ]
  },
  {
   "cell_type": "code",
   "execution_count": 13,
   "id": "e5081deb",
   "metadata": {},
   "outputs": [
    {
     "name": "stdout",
     "output_type": "stream",
     "text": [
      " *** \n",
      "*   *\n",
      "*   *\n",
      "*****\n",
      "*   *\n",
      "*   *\n",
      "*   *\n"
     ]
    }
   ],
   "source": [
    "for row in range(7):\n",
    "    for col in range(5):\n",
    "        if ((col == 0 or col == 4) and row != 0) or ((row == 0 or row == 3) and (col>0 and col<4)):\n",
    "            print(\"*\",end=\"\")\n",
    "        else:\n",
    "            print(end=\" \")\n",
    "    print()"
   ]
  },
  {
   "cell_type": "code",
   "execution_count": 49,
   "id": "f8b95b7d",
   "metadata": {},
   "outputs": [
    {
     "name": "stdout",
     "output_type": "stream",
     "text": [
      "**** \n",
      "*   *\n",
      "*   *\n",
      "**** \n",
      "*   *\n",
      "*   *\n",
      "**** \n"
     ]
    }
   ],
   "source": [
    "for row in range(7):\n",
    "    for col in range(5):\n",
    "        if (col == 0) or ((col == 4) and (row!=0 and row!=3 and row!=6)) or ((row == 0 or row == 3 or row == 6) and (col>0 and col<4)):\n",
    "            print(\"*\",end=\"\")\n",
    "        else:\n",
    "            print(end=\" \")\n",
    "    print()"
   ]
  },
  {
   "cell_type": "code",
   "execution_count": 46,
   "id": "4cf3c6d3",
   "metadata": {
    "scrolled": true
   },
   "outputs": [
    {
     "name": "stdout",
     "output_type": "stream",
     "text": [
      " * * * * \n",
      "*     \n",
      "*     \n",
      "*     \n",
      "*     \n",
      "*     \n",
      " * * * * \n"
     ]
    }
   ],
   "source": [
    "for row in range(7):\n",
    "    for col in range(5):\n",
    "        if (col==0 and (row!=0 and row!=6)) or ((row==0 or row==6) and (col>0)):\n",
    "            print(\"* \",end=\"\")\n",
    "        else:\n",
    "            print(end=\" \")\n",
    "    print()"
   ]
  },
  {
   "cell_type": "code",
   "execution_count": 44,
   "id": "bfea69e2",
   "metadata": {},
   "outputs": [
    {
     "name": "stdout",
     "output_type": "stream",
     "text": [
      "**** \n",
      "*   *\n",
      "*   *\n",
      "*   *\n",
      "*   *\n",
      "*   *\n",
      "**** \n"
     ]
    }
   ],
   "source": [
    "for row in range(7):\n",
    "    for col in range(5):\n",
    "        if (col==0) or (col==4 and (row!=0 and row!=6)) or ((row==0 or row==6) and (col>0 and col<4)):\n",
    "            print(\"*\",end=\"\")\n",
    "        else:\n",
    "            print(end=\" \")\n",
    "    print()"
   ]
  },
  {
   "cell_type": "code",
   "execution_count": 50,
   "id": "5c03d0ed",
   "metadata": {},
   "outputs": [
    {
     "name": "stdout",
     "output_type": "stream",
     "text": [
      "* * * * * \n",
      "* \n",
      "* \n",
      "* * * * * \n",
      "* \n",
      "* \n",
      "* * * * * \n"
     ]
    }
   ],
   "source": [
    "for row in range(7):\n",
    "    for col in range(5):\n",
    "        if (col==0) or (row==0 or row==3 or row==6):\n",
    "            print(\"* \",end=\"\")\n",
    "        else:\n",
    "            print(end=\"\")\n",
    "            \n",
    "    print()"
   ]
  },
  {
   "cell_type": "code",
   "execution_count": 52,
   "id": "e6aaa21f",
   "metadata": {},
   "outputs": [
    {
     "name": "stdout",
     "output_type": "stream",
     "text": [
      "* * * * * \n",
      "*     \n",
      "*     \n",
      "* * * * * \n",
      "*     \n",
      "*     \n",
      "*     \n"
     ]
    }
   ],
   "source": [
    "for row in range(7):\n",
    "    for col in range(5):\n",
    "        if (col==0) or (row==0 or row==3):\n",
    "            print(\"* \",end=\"\")\n",
    "        else:\n",
    "            print(end=\" \")\n",
    "    print()"
   ]
  },
  {
   "cell_type": "code",
   "execution_count": 54,
   "id": "cfc39698",
   "metadata": {},
   "outputs": [
    {
     "name": "stdout",
     "output_type": "stream",
     "text": [
      "***** \n",
      "*     \n",
      "*     \n",
      "*  ***\n",
      "*   * \n",
      "*   * \n",
      "***** \n"
     ]
    }
   ],
   "source": [
    "for row in range(7):\n",
    "    for col in range(6):\n",
    "        if (col==0) or (col==4 and (row!=1 and row!=2)) or ((row ==0 or row ==6) and (col>0 and col<4)) or (row == 3 and (col==3 or col== 5)):\n",
    "            print(\"*\",end=\"\")\n",
    "        else:\n",
    "            print(end=\" \")\n",
    "    print()"
   ]
  },
  {
   "cell_type": "code",
   "execution_count": 71,
   "id": "2adda9fd",
   "metadata": {},
   "outputs": [
    {
     "name": "stdout",
     "output_type": "stream",
     "text": [
      "*    *\n",
      "*    *\n",
      "*    *\n",
      "******\n",
      "*    *\n",
      "*    *\n",
      "*    *\n"
     ]
    }
   ],
   "source": [
    "for row in range(7):\n",
    "    for col in range(6):\n",
    "        if (col==0 or col==5) or (row==3):\n",
    "            print(\"*\",end=\"\")\n",
    "        else:\n",
    "            print(end=\" \")\n",
    "    print()"
   ]
  },
  {
   "cell_type": "code",
   "execution_count": 52,
   "id": "4056bab6",
   "metadata": {},
   "outputs": [
    {
     "name": "stdout",
     "output_type": "stream",
     "text": [
      "*****\n",
      "  *  \n",
      "  *  \n",
      "  *  \n",
      "  *  \n",
      "  *  \n",
      "*****\n"
     ]
    }
   ],
   "source": [
    "for row in range(7):\n",
    "    for col in range(5):\n",
    "        if (col==2) or (row==0 or row==6):\n",
    "            print(\"*\",end=\"\")\n",
    "        else:\n",
    "            print(end=\" \")\n",
    "    print()"
   ]
  },
  {
   "cell_type": "code",
   "execution_count": 57,
   "id": "3c6f6264",
   "metadata": {},
   "outputs": [
    {
     "name": "stdout",
     "output_type": "stream",
     "text": [
      "*****\n",
      "  *  \n",
      "  *  \n",
      "  *  \n",
      "  *  \n",
      "* *  \n",
      "***  \n"
     ]
    }
   ],
   "source": [
    "for row in range(7):\n",
    "    for col in range(5):\n",
    "        if (col ==2) or (row ==0 and col!=2) or (row==6 and col==1 or row==6 and col==0 or row==5 and col==0):\n",
    "            print(\"*\",end=\"\")\n",
    "        else:\n",
    "            print(end=\" \")\n",
    "    print()"
   ]
  },
  {
   "cell_type": "code",
   "execution_count": 33,
   "id": "398bd1fc",
   "metadata": {},
   "outputs": [
    {
     "name": "stdout",
     "output_type": "stream",
     "text": [
      "*   * \n",
      "*  *  \n",
      "* *   \n",
      "**    \n",
      "* *  \n",
      "*  * \n",
      "*   *\n"
     ]
    }
   ],
   "source": [
    "i = 0\n",
    "j = 4\n",
    "for row in range(7):\n",
    "    for col in range(5):\n",
    "        if (col==0) or (row==col+2 and col>1):\n",
    "            print(\"*\",end=\"\")\n",
    "        elif ((row==i and col==j) and col>0):\n",
    "            print(\"* \",end=\"\")\n",
    "            i=i+1\n",
    "            j=j-1\n",
    "        else:\n",
    "            print(end=\" \")\n",
    "    print()"
   ]
  },
  {
   "cell_type": "code",
   "execution_count": 15,
   "id": "2dabb7e5",
   "metadata": {},
   "outputs": [
    {
     "name": "stdout",
     "output_type": "stream",
     "text": [
      "*     \n",
      "*     \n",
      "*     \n",
      "*     \n",
      "*     \n",
      "*     \n",
      "* * * * * \n"
     ]
    }
   ],
   "source": [
    "for row in range(7):\n",
    "    for col in range(5):\n",
    "        if (col ==0) or ((row==6) and col>0) :\n",
    "            print(\"* \",end=\"\")\n",
    "        else:\n",
    "            print(end=\" \")\n",
    "    print()"
   ]
  },
  {
   "cell_type": "code",
   "execution_count": 27,
   "id": "36e4f5d3",
   "metadata": {},
   "outputs": [
    {
     "name": "stdout",
     "output_type": "stream",
     "text": [
      "*     *\n",
      "**   **\n",
      "* * * *\n",
      "*  *  *\n",
      "*     *\n",
      "*     *\n",
      "*     *\n"
     ]
    }
   ],
   "source": [
    "\n",
    "for row in range(7):\n",
    "    for col in range(7):\n",
    "        if (col ==0 or col==6) or ((row==col) and (col>0 and col<4)) or (row==1 and col==5) or (row==2 and col==4):\n",
    "            print(\"*\",end=\"\")           \n",
    "        else:\n",
    "            print(end=\" \")\n",
    "    print()"
   ]
  },
  {
   "cell_type": "code",
   "execution_count": 33,
   "id": "a1d85ee5",
   "metadata": {},
   "outputs": [
    {
     "name": "stdout",
     "output_type": "stream",
     "text": [
      "*     *\n",
      "**    *\n",
      "* *   *\n",
      "*  *  *\n",
      "*   * *\n",
      "*    **\n",
      "*     *\n"
     ]
    }
   ],
   "source": [
    "for row in range(7):\n",
    "    for col in range(7):\n",
    "        if (col==0) or ((row==col) and (col>0 and col<6)) or (col==6):\n",
    "            print(\"*\",end=\"\")\n",
    "        else:\n",
    "            print(end=\" \")\n",
    "            \n",
    "    print()"
   ]
  },
  {
   "cell_type": "code",
   "execution_count": 44,
   "id": "a432868d",
   "metadata": {},
   "outputs": [
    {
     "name": "stdout",
     "output_type": "stream",
     "text": [
      " *** \n",
      "*   *\n",
      "*   *\n",
      "*   *\n",
      "*   *\n",
      "*   *\n",
      " *** \n"
     ]
    }
   ],
   "source": [
    "for row in range(7):\n",
    "    for col in range(5):\n",
    "        if ((col==0 or col==4) and (row!=0 and row!=6)) or ((row==0 or row==6) and (col!=0 and col!=4)):\n",
    "            print(\"*\",end=\"\")\n",
    "        else:\n",
    "            print(end=\" \")\n",
    "            \n",
    "    print()"
   ]
  },
  {
   "cell_type": "code",
   "execution_count": 12,
   "id": "126894ac",
   "metadata": {},
   "outputs": [
    {
     "name": "stdout",
     "output_type": "stream",
     "text": [
      "*****\n",
      "*   *\n",
      "*   *\n",
      "*****\n",
      "*    \n",
      "*    \n",
      "*    \n"
     ]
    }
   ],
   "source": [
    "for row in range(7):\n",
    "    for col in range(5):\n",
    "        if (col==0) or (row==0) or ((row==3) or (col==4 and row!=4 and row!=5 and row!=6)):\n",
    "            print(\"*\",end=\"\")\n",
    "        else:\n",
    "            print(end=\" \")\n",
    "    print()"
   ]
  },
  {
   "cell_type": "code",
   "execution_count": 31,
   "id": "82677aca",
   "metadata": {},
   "outputs": [
    {
     "name": "stdout",
     "output_type": "stream",
     "text": [
      " *** \n",
      "*   *\n",
      "*   *\n",
      "*   *\n",
      "*   *\n",
      "**  *\n",
      " *** \n",
      "   * \n"
     ]
    }
   ],
   "source": [
    "for row in range(8):\n",
    "    for col in range(5):\n",
    "        if ((col==0 or col==4) and (row>0 and row<6)) or ((row==0 or row==6) and (col>0 and col<4)) or (row==5 and col==1) or (row==7 and col==3):\n",
    "            print(\"*\",end=\"\")\n",
    "        else:\n",
    "            print(end=\" \")\n",
    "    print()"
   ]
  },
  {
   "cell_type": "code",
   "execution_count": 70,
   "id": "6da0ef4d",
   "metadata": {},
   "outputs": [
    {
     "name": "stdout",
     "output_type": "stream",
     "text": [
      "**** \n",
      "*   *\n",
      "*   *\n",
      "**** \n",
      "*   *\n",
      "*   *\n"
     ]
    }
   ],
   "source": [
    "for row in range(6):\n",
    "    for col in range(5):\n",
    "        if col==0 or (col==4 and (row!=0 and row!=3)) or ((row==0 or row==3) and (col>0 and col<4)):\n",
    "            print(\"*\",end=\"\")\n",
    "        else:\n",
    "            print(end=\" \")\n",
    "    print()"
   ]
  },
  {
   "cell_type": "code",
   "execution_count": 13,
   "id": "cfaadad8",
   "metadata": {},
   "outputs": [
    {
     "name": "stdout",
     "output_type": "stream",
     "text": [
      " *** \n",
      "*    \n",
      "*    \n",
      " *** \n",
      "    *\n",
      "    *\n",
      " *** \n"
     ]
    }
   ],
   "source": [
    "for row in range(7):\n",
    "    for col in range(5):\n",
    "        if(row==0 or row==3 or row==6) and (col>0 and col<4) or (col==0 and (row>0 and row<3)) or (col==4 and (row>3 and row<6)):\n",
    "            print(\"*\",end=\"\")\n",
    "        else:\n",
    "            print(end=\" \")\n",
    "    print()"
   ]
  },
  {
   "cell_type": "code",
   "execution_count": 18,
   "id": "f14fcf3e",
   "metadata": {},
   "outputs": [
    {
     "name": "stdout",
     "output_type": "stream",
     "text": [
      "* * * * * \n",
      "    * \n",
      "    * \n",
      "    * \n",
      "    * \n",
      "    * \n",
      "    * \n"
     ]
    }
   ],
   "source": [
    "for row in range(7):\n",
    "    for col in range(5):\n",
    "        if (col==4) or row==0:\n",
    "            print(\"* \",end=\"\")\n",
    "        else:\n",
    "            print(end=\" \")\n",
    "    print()"
   ]
  },
  {
   "cell_type": "code",
   "execution_count": 24,
   "id": "969c497a",
   "metadata": {},
   "outputs": [
    {
     "name": "stdout",
     "output_type": "stream",
     "text": [
      "*   *\n",
      "*   *\n",
      "*   *\n",
      "*   *\n",
      "*   *\n",
      "*   *\n",
      " *** \n"
     ]
    }
   ],
   "source": [
    "for row in range(7):\n",
    "    for col in range(5):\n",
    "        if ((col==0 or col==4) and (row!=6)) or (row==6 and (col>0 and col<4)):\n",
    "            print(\"*\",end=\"\")\n",
    "        else:\n",
    "            print(end=\" \")\n",
    "    print()"
   ]
  },
  {
   "cell_type": "code",
   "execution_count": 11,
   "id": "ed8d87ae",
   "metadata": {},
   "outputs": [
    {
     "name": "stdout",
     "output_type": "stream",
     "text": [
      "*     *\n",
      " *   * \n",
      "  * *  \n",
      "   *   \n"
     ]
    }
   ],
   "source": [
    "i=0\n",
    "j=6 \n",
    "for row in range(4):\n",
    "    for col in range(7):\n",
    "        if row==col:\n",
    "            print(\"*\",end=\"\")\n",
    "        elif row==i and col==j:\n",
    "            print(\"*\",end=\"\")\n",
    "            i = i+1\n",
    "            j = j-1\n",
    "        else:\n",
    "            print(end=\" \")\n",
    "    print()"
   ]
  },
  {
   "cell_type": "code",
   "execution_count": 25,
   "id": "735ec50d",
   "metadata": {},
   "outputs": [
    {
     "name": "stdout",
     "output_type": "stream",
     "text": [
      "*     *\n",
      "*     *\n",
      "*  *  *\n",
      "* * * *\n",
      "**   **\n",
      "*     *\n"
     ]
    }
   ],
   "source": [
    "for row in range(6):\n",
    "    for col in range(7):\n",
    "        if (col==0 or col==6) or (row==4 and col==1 or row==3 and col==2 or row==2 and col==3) or (col==4 and row==3 or col==5 and row==4):\n",
    "            print(\"*\",end=\"\")\n",
    "        else:\n",
    "            print(end=\" \")\n",
    "    print()"
   ]
  },
  {
   "cell_type": "code",
   "execution_count": 31,
   "id": "37347cd4",
   "metadata": {},
   "outputs": [
    {
     "name": "stdout",
     "output_type": "stream",
     "text": [
      "*     *\n",
      " *   * \n",
      "  * *  \n",
      "   *   \n",
      "  * *  \n",
      " *   * \n",
      "*     *\n"
     ]
    }
   ],
   "source": [
    "i = 0\n",
    "j = 6\n",
    "\n",
    "for row in range(7):\n",
    "    for col in range(7):\n",
    "        if (row==i and col==j):\n",
    "            print(\"*\",end=\"\")\n",
    "            i = i+1\n",
    "            j=j-1\n",
    "        elif row==col:\n",
    "            print(\"*\",end=\"\")\n",
    "        else:\n",
    "            print(end=\" \")\n",
    "    print()"
   ]
  },
  {
   "cell_type": "code",
   "execution_count": 37,
   "id": "9957fcad",
   "metadata": {},
   "outputs": [
    {
     "name": "stdout",
     "output_type": "stream",
     "text": [
      "*     *\n",
      " *   * \n",
      "  * *  \n",
      "   *   \n",
      "  *    \n",
      " *     \n",
      "*      \n"
     ]
    }
   ],
   "source": [
    "i = 0\n",
    "j = 6\n",
    "for row in range(7):\n",
    "    for col in range(7):\n",
    "        if row==i and col==j:\n",
    "            print(\"*\",end=\"\")\n",
    "            i = i+1\n",
    "            j = j-1\n",
    "        elif (row==2 and col==2 or row==1 and col==1 or row==0 and col==0):\n",
    "            print(\"*\",end=\"\")\n",
    "        else:\n",
    "            print(end=\" \")\n",
    "    print()"
   ]
  },
  {
   "cell_type": "code",
   "execution_count": 50,
   "id": "cb03fb12",
   "metadata": {},
   "outputs": [
    {
     "name": "stdout",
     "output_type": "stream",
     "text": [
      "******* \n",
      "     *  \n",
      "    *   \n",
      "   *    \n",
      "  *     \n",
      " *      \n",
      "* ******\n"
     ]
    }
   ],
   "source": [
    "i = 0\n",
    "j = 6\n",
    "\n",
    "for row in range(7):\n",
    "    for col in range(7):\n",
    "        if row==i and col==j:\n",
    "            print(\"*\",end=\" \")\n",
    "            i = i+1\n",
    "            j = j-1\n",
    "        elif (row==0 or row==6):\n",
    "            print(\"*\",end=\"\")\n",
    "        else:\n",
    "            print(end=\" \")\n",
    "    print()"
   ]
  },
  {
   "cell_type": "code",
   "execution_count": 2,
   "id": "9109faa6",
   "metadata": {},
   "outputs": [
    {
     "name": "stdout",
     "output_type": "stream",
     "text": [
      " ** ** \n",
      "*  *  *\n",
      "*     *\n",
      " *   * \n",
      "  * *  \n",
      "   *   \n"
     ]
    }
   ],
   "source": [
    "for row in range(6):\n",
    "    for col in range(7):\n",
    "        if (row==0 and col%3 !=0) or (row==1 and col%3==0) or (row-col==2) or (row+col==8):\n",
    "            print(\"*\",end=\"\")\n",
    "        else:\n",
    "            print(\" \",end=\"\")\n",
    "    print()"
   ]
  },
  {
   "cell_type": "code",
   "execution_count": 18,
   "id": "32049905",
   "metadata": {},
   "outputs": [
    {
     "name": "stdout",
     "output_type": "stream",
     "text": [
      "*         *     * * * *   \n",
      "* *       *   *         * \n",
      "*   *     *   *         * \n",
      "*     *   *   *         * \n",
      "*       * *   *         * \n",
      "*         *     * * * *   \n"
     ]
    }
   ],
   "source": [
    "str = \"NO\"\n",
    "print_N = [[\" \" for i in range(6)] for j in range(6)]\n",
    "print_O = [[\" \" for i in range(6)] for j in range(6)]\n",
    "\n",
    "\n",
    "\n",
    "# code for N\n",
    "for row in range(6):\n",
    "    for col in range(6):\n",
    "        if col == 0 or col == 5 or row==col:\n",
    "            print_N[row][col] = \"*\"\n",
    "            \n",
    "            \n",
    "            \n",
    "# code for O\n",
    "for row in range(6):\n",
    "    for col in range(6):\n",
    "        if ((row==0 or row==5) and (col!=0 and col!=5)) or (col==0 or col==5) and (row!=0 and row!=5):\n",
    "            \n",
    "            print_O[row][col] = \"*\"\n",
    "            \n",
    "for i in range(6):\n",
    "    for j in range(6):\n",
    "        print(print_N[i][j],end=\" \")\n",
    "    print(end=\"  \")       \n",
    "    for j in range(6):\n",
    "        print(print_O[i][j],end=\" \")\n",
    "    print()"
   ]
  },
  {
   "cell_type": "code",
   "execution_count": 28,
   "id": "c7e6201a",
   "metadata": {},
   "outputs": [
    {
     "name": "stdout",
     "output_type": "stream",
     "text": [
      "*               * * *       *         *     * * * *     * * * * *     * *       *   *       *     * *       *   *         *       *         *   *   *     *       *     *   *     *   *         *       *         *     *       * * * * *     *     *   *   *         *       *         *             *       *     *       * *   *         *       *         *             *       *     *         *     * * * *     *   *         *             *       *     *         *   *         *   * * *         \n"
     ]
    }
   ],
   "source": [
    "print_M = [[\" \" for i in range(7)] for j in range(7)]\n",
    "print_A = [[\" \" for i in range(7)] for j in range(7)]\n",
    "print_N = [[\" \" for i in range(7)] for j in range(7)]\n",
    "print_O = [[\" \" for i in range(7)] for j in range(7)]\n",
    "print_J = [[\" \" for i in range(7)] for j in range(7)]\n",
    "\n",
    "# Code for M \n",
    "for row in range(7):\n",
    "    for col in range(7):\n",
    "        if (col == 0 or col== 6) or ((row==col) and (col>0 and col<4)) or (row==1 and col==5) or (row==2 and col==4):\n",
    "            print_M[row][col] = \"*\"\n",
    "            \n",
    "# Code for A\n",
    "for row in range(7):\n",
    "    for col in range(7):\n",
    "        if ((col == 0 or col == 4) and row != 0) or ((row == 0 or row == 3) and (col>0 and col<4)):\n",
    "            print_A[row][col] = \"*\"\n",
    "            \n",
    "# Code for N\n",
    "for row in range(7):\n",
    "    for col in range(7):\n",
    "        if col == 0 or col == 5 or row==col:\n",
    "            print_N[row][col] = \"*\"\n",
    "            \n",
    "# Code for O\n",
    "for row in range(7):\n",
    "    for col in range(7):\n",
    "        if ((row==0 or row==5) and (col!=0 and col!=5)) or (col==0 or col==5) and (row!=0 and row!=5):\n",
    "            print_O[row][col] = \"*\"\n",
    "            \n",
    "# Code for J\n",
    "for row in range(7):\n",
    "    for col in range(5):\n",
    "        if (col ==2) or (row ==0 and col!=2) or (row==6 and col==1 or row==6 and col==0 or row==5 and col==0):\n",
    "            print_J[row][col] = \"*\"\n",
    "            \n",
    "            \n",
    "            \n",
    "for i in range(7):\n",
    "    for j in range(6):\n",
    "        print(print_M[i][j],end=\" \")\n",
    "    print(end=\"  \")\n",
    "    for j in range(6):\n",
    "        print(print_A[i][j],end=\" \")\n",
    "    print(end=\"  \") \n",
    "    for j in range(6):\n",
    "        print(print_N[i][j],end=\" \")\n",
    "    print(end=\"  \") \n",
    "    for j in range(6):\n",
    "        print(print_O[i][j],end=\" \")\n",
    "    print(end=\"  \") \n",
    "    for j in range(6):\n",
    "        print(print_J[i][j],end=\" \")\n",
    "    print(end=\"  \") \n",
    "print()"
   ]
  },
  {
   "cell_type": "code",
   "execution_count": 37,
   "id": "4471ecd3",
   "metadata": {},
   "outputs": [
    {
     "name": "stdout",
     "output_type": "stream",
     "text": [
      "m\n",
      "a\n",
      "n\n",
      "o\n",
      "j\n",
      "\n",
      "First name is completed\n",
      " \n",
      "s\n",
      "i\n",
      "n\n",
      "g\n",
      "h\n",
      "\n",
      "Mid name is completed\n",
      " \n",
      "n\n",
      "e\n",
      "g\n",
      "i\n"
     ]
    }
   ],
   "source": [
    "name = (\"manoj singh negi\")\n",
    "\n",
    "for i in name:\n",
    "    print(i)\n",
    "    if (i==\"j\"):\n",
    "        print(\"\\nFirst name is completed\")\n",
    "    elif (i==\"h\"):\n",
    "        print(\"\\nMid name is completed\")\n",
    "    if(i==\"gi\"):\n",
    "        print(\"\\n Last name is compelted\")"
   ]
  },
  {
   "cell_type": "code",
   "execution_count": 46,
   "id": "b0ff408f",
   "metadata": {},
   "outputs": [
    {
     "name": "stdout",
     "output_type": "stream",
     "text": [
      "3\n",
      "6\n",
      "9\n",
      "12\n",
      "15\n",
      "18\n",
      "21\n",
      "24\n",
      "27\n",
      "30\n"
     ]
    }
   ],
   "source": [
    "for i in range(0,30,3):\n",
    "    print(i+3)\n",
    "    i+=3"
   ]
  },
  {
   "cell_type": "code",
   "execution_count": null,
   "id": "768b0658",
   "metadata": {},
   "outputs": [],
   "source": []
  }
 ],
 "metadata": {
  "kernelspec": {
   "display_name": "Python 3 (ipykernel)",
   "language": "python",
   "name": "python3"
  },
  "language_info": {
   "codemirror_mode": {
    "name": "ipython",
    "version": 3
   },
   "file_extension": ".py",
   "mimetype": "text/x-python",
   "name": "python",
   "nbconvert_exporter": "python",
   "pygments_lexer": "ipython3",
   "version": "3.11.5"
  }
 },
 "nbformat": 4,
 "nbformat_minor": 5
}
